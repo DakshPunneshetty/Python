{
 "cells": [
  {
   "cell_type": "markdown",
   "id": "cc023beb-1ec0-4ede-816e-48d06302c3fb",
   "metadata": {},
   "source": [
    "## Learning"
   ]
  },
  {
   "cell_type": "code",
   "execution_count": 2,
   "id": "8eab1a70-cd95-4379-9571-59f4ef379704",
   "metadata": {},
   "outputs": [],
   "source": [
    "# Today i am learning tuples and sets "
   ]
  },
  {
   "cell_type": "code",
   "execution_count": 6,
   "id": "63a366e2-344b-486d-ab8d-5930f00362f6",
   "metadata": {},
   "outputs": [
    {
     "name": "stdout",
     "output_type": "stream",
     "text": [
      "<class 'tuple'>\n"
     ]
    }
   ],
   "source": [
    "genders = (\"male\",\"female,\",\"others\")\n",
    "print(type(genders))"
   ]
  },
  {
   "cell_type": "code",
   "execution_count": 12,
   "id": "bf0d239a-a12a-4947-8a2d-747b938de7b9",
   "metadata": {},
   "outputs": [
    {
     "name": "stdout",
     "output_type": "stream",
     "text": [
      "male\n"
     ]
    }
   ],
   "source": [
    "genders = (\"male\",\"female,\",\"others\")\n",
    "print(genders[0])"
   ]
  },
  {
   "cell_type": "code",
   "execution_count": 14,
   "id": "e01cac3a-a65c-4cb7-bf1c-2ab6a25c5bc2",
   "metadata": {},
   "outputs": [
    {
     "ename": "TypeError",
     "evalue": "'tuple' object does not support item assignment",
     "output_type": "error",
     "traceback": [
      "\u001b[1;31m---------------------------------------------------------------------------\u001b[0m",
      "\u001b[1;31mTypeError\u001b[0m                                 Traceback (most recent call last)",
      "Cell \u001b[1;32mIn[14], line 2\u001b[0m\n\u001b[0;32m      1\u001b[0m genders \u001b[38;5;241m=\u001b[39m (\u001b[38;5;124m\"\u001b[39m\u001b[38;5;124mmale\u001b[39m\u001b[38;5;124m\"\u001b[39m,\u001b[38;5;124m\"\u001b[39m\u001b[38;5;124mfemale,\u001b[39m\u001b[38;5;124m\"\u001b[39m,\u001b[38;5;124m\"\u001b[39m\u001b[38;5;124mothers\u001b[39m\u001b[38;5;124m\"\u001b[39m)\n\u001b[1;32m----> 2\u001b[0m genders[\u001b[38;5;241m0\u001b[39m] \u001b[38;5;241m=\u001b[39m \u001b[38;5;124m\"\u001b[39m\u001b[38;5;124mmasculine\u001b[39m\u001b[38;5;124m\"\u001b[39m\n\u001b[0;32m      3\u001b[0m \u001b[38;5;28mprint\u001b[39m(genders)\n",
      "\u001b[1;31mTypeError\u001b[0m: 'tuple' object does not support item assignment"
     ]
    }
   ],
   "source": [
    "genders = (\"male\",\"female,\",\"others\")\n",
    "genders[0] = \"masculine\"       # it wont print because once you type anything in the tuple you can't change it. And it will gie you an error.\n",
    "print(genders)"
   ]
  },
  {
   "cell_type": "code",
   "execution_count": 18,
   "id": "eedf6769-e929-4186-8ee2-02f1ce48b977",
   "metadata": {},
   "outputs": [
    {
     "name": "stdout",
     "output_type": "stream",
     "text": [
      "(1, 2, 3, 4, 5, 6)\n"
     ]
    }
   ],
   "source": [
    "tuple_1 = (1,2,3)\n",
    "tuple_2 = (4,5,6)\n",
    "combination_of_both_tuples = tuple_1 + tuple_2\n",
    "print(combination_of_both_tuples)"
   ]
  },
  {
   "cell_type": "code",
   "execution_count": 20,
   "id": "736aa19f-cc87-481b-818f-762b4d48664b",
   "metadata": {},
   "outputs": [
    {
     "name": "stdout",
     "output_type": "stream",
     "text": [
      "(1, 2, 1, 2, 1, 2, 1, 2, 1, 2, 1, 2)\n"
     ]
    }
   ],
   "source": [
    "repeated_tuple = (1,2) * 6\n",
    "print(repeated_tuple)"
   ]
  },
  {
   "cell_type": "code",
   "execution_count": 22,
   "id": "54c64e0d-21d1-4f02-b812-24690835370f",
   "metadata": {},
   "outputs": [
    {
     "name": "stdout",
     "output_type": "stream",
     "text": [
      "4\n"
     ]
    }
   ],
   "source": [
    "tuple = (1,2,3,4,5,1,1,1)\n",
    "print(tuple.count(1))"
   ]
  },
  {
   "cell_type": "code",
   "execution_count": 26,
   "id": "27d308c4-de7f-4909-8778-0cc083c91007",
   "metadata": {},
   "outputs": [
    {
     "name": "stdout",
     "output_type": "stream",
     "text": [
      "0\n"
     ]
    }
   ],
   "source": [
    "tuple = (1,2,3,4,5,1,1,1)\n",
    "print(tuple.index(1))"
   ]
  },
  {
   "cell_type": "code",
   "execution_count": 30,
   "id": "25cdf8b4-4172-4869-8013-82b0574f2f56",
   "metadata": {},
   "outputs": [
    {
     "name": "stdout",
     "output_type": "stream",
     "text": [
      "(1, 2, 3, 4, 5, 1, 1, 1, (4, 5, 6, 9, 100))\n"
     ]
    }
   ],
   "source": [
    "tuple = (1,2,3,4,5,1,1,1,(4,5,6,9,100))\n",
    "print(tuple)"
   ]
  },
  {
   "cell_type": "code",
   "execution_count": 34,
   "id": "5a87b060-4630-444b-8e4d-a64fddc904f6",
   "metadata": {},
   "outputs": [
    {
     "name": "stdout",
     "output_type": "stream",
     "text": [
      "{12122, 444, 12, 3221}\n"
     ]
    }
   ],
   "source": [
    "sets = {12,12122,3221,444}\n",
    "print(sets)                  # sets are unordered"
   ]
  },
  {
   "cell_type": "code",
   "execution_count": 36,
   "id": "c34fdd2f-59d5-466a-b243-25adf7750b97",
   "metadata": {},
   "outputs": [
    {
     "ename": "TypeError",
     "evalue": "'set' object is not subscriptable",
     "output_type": "error",
     "traceback": [
      "\u001b[1;31m---------------------------------------------------------------------------\u001b[0m",
      "\u001b[1;31mTypeError\u001b[0m                                 Traceback (most recent call last)",
      "Cell \u001b[1;32mIn[36], line 2\u001b[0m\n\u001b[0;32m      1\u001b[0m sets \u001b[38;5;241m=\u001b[39m {\u001b[38;5;241m12\u001b[39m,\u001b[38;5;241m12122\u001b[39m,\u001b[38;5;241m3221\u001b[39m,\u001b[38;5;241m444\u001b[39m}\n\u001b[1;32m----> 2\u001b[0m \u001b[38;5;28mprint\u001b[39m(sets[\u001b[38;5;241m0\u001b[39m])\n",
      "\u001b[1;31mTypeError\u001b[0m: 'set' object is not subscriptable"
     ]
    }
   ],
   "source": [
    "sets = {12,12122,3221,444}\n",
    "print(sets[0])      # why because it's unordered so it won't know which is the 0th index"
   ]
  },
  {
   "cell_type": "code",
   "execution_count": 38,
   "id": "e5093c2c-f6f3-45e5-a5e4-689f83a34ed1",
   "metadata": {},
   "outputs": [
    {
     "name": "stdout",
     "output_type": "stream",
     "text": [
      "<class 'set'>\n"
     ]
    }
   ],
   "source": [
    "sets = {12,12122,3221,444}\n",
    "print(type(sets)) "
   ]
  },
  {
   "cell_type": "code",
   "execution_count": 40,
   "id": "a3fb6c36-96b0-4d6b-be5a-055fd4949183",
   "metadata": {},
   "outputs": [
    {
     "name": "stdout",
     "output_type": "stream",
     "text": [
      "{1, 2, 3, 4, 5}\n"
     ]
    }
   ],
   "source": [
    "set1 = {1,2,3}\n",
    "set2 = {3,4,5}\n",
    "print(set1 | set2)   # union"
   ]
  },
  {
   "cell_type": "code",
   "execution_count": 42,
   "id": "652f22f5-5d27-402c-9316-f000d3920c28",
   "metadata": {},
   "outputs": [
    {
     "name": "stdout",
     "output_type": "stream",
     "text": [
      "{3}\n"
     ]
    }
   ],
   "source": [
    "set1 = {1,2,3}\n",
    "set2 = {3,4,5}\n",
    "print(set1 & set2)   # intersection"
   ]
  },
  {
   "cell_type": "code",
   "execution_count": 44,
   "id": "76092695-8ef6-4a0a-9ced-375b6834d0bd",
   "metadata": {},
   "outputs": [
    {
     "name": "stdout",
     "output_type": "stream",
     "text": [
      "{1, 2}\n"
     ]
    }
   ],
   "source": [
    "set1 = {1,2,3}\n",
    "set2 = {3,4,5}\n",
    "print(set1 - set2)  # difference"
   ]
  },
  {
   "cell_type": "markdown",
   "id": "6ecb4bb7-4690-44a5-b60d-f93257a049b7",
   "metadata": {},
   "source": [
    "## Homework"
   ]
  },
  {
   "cell_type": "code",
   "execution_count": 77,
   "id": "901de92e-dc92-45f4-926f-1d1380ec8b16",
   "metadata": {},
   "outputs": [
    {
     "ename": "TypeError",
     "evalue": "'tuple' object does not support item assignment",
     "output_type": "error",
     "traceback": [
      "\u001b[1;31m---------------------------------------------------------------------------\u001b[0m",
      "\u001b[1;31mTypeError\u001b[0m                                 Traceback (most recent call last)",
      "Cell \u001b[1;32mIn[77], line 2\u001b[0m\n\u001b[0;32m      1\u001b[0m fruits_tuple \u001b[38;5;241m=\u001b[39m (\u001b[38;5;124m\"\u001b[39m\u001b[38;5;124mapple\u001b[39m\u001b[38;5;124m\"\u001b[39m,\u001b[38;5;124m\"\u001b[39m\u001b[38;5;124mmango\u001b[39m\u001b[38;5;124m\"\u001b[39m,\u001b[38;5;124m\"\u001b[39m\u001b[38;5;124mbanana\u001b[39m\u001b[38;5;124m\"\u001b[39m,\u001b[38;5;124m\"\u001b[39m\u001b[38;5;124morange\u001b[39m\u001b[38;5;124m\"\u001b[39m)\n\u001b[1;32m----> 2\u001b[0m fruits_tuple[\u001b[38;5;241m2\u001b[39m] \u001b[38;5;241m=\u001b[39m \u001b[38;5;124m\"\u001b[39m\u001b[38;5;124mDragon fruit\u001b[39m\u001b[38;5;124m\"\u001b[39m\n\u001b[0;32m      3\u001b[0m \u001b[38;5;28mprint\u001b[39m(fruits_tuple)\n",
      "\u001b[1;31mTypeError\u001b[0m: 'tuple' object does not support item assignment"
     ]
    }
   ],
   "source": [
    "fruits_tuple = (\"apple\",\"mango\",\"banana\",\"orange\")\n",
    "fruits_tuple[2] = \"Dragon fruit\"\n",
    "print(fruits_tuple)             # you can't add item once it's written that is why it's immutable."
   ]
  },
  {
   "cell_type": "code",
   "execution_count": 79,
   "id": "abd1a91f-bb36-4b4e-80c5-3abc2bb017f6",
   "metadata": {},
   "outputs": [
    {
     "name": "stdout",
     "output_type": "stream",
     "text": [
      "('banana',)\n"
     ]
    }
   ],
   "source": [
    "fruits_tuple = (\"apple\",\"mango\",\"banana\",\"orange\")\n",
    "print(fruits_tuple[2:3])"
   ]
  },
  {
   "cell_type": "code",
   "execution_count": 93,
   "id": "8217ae5a-a690-4f9e-94ba-c2a460a9b1a6",
   "metadata": {},
   "outputs": [
    {
     "name": "stdout",
     "output_type": "stream",
     "text": [
      "('apple', 'mango', 'banana', ('orange', 'kiwi'))\n"
     ]
    }
   ],
   "source": [
    "fruits_tuple = (\"apple\",\"mango\",\"banana\",(\"orange\",\"kiwi\"))\n",
    "print(fruits_tuple)                                 # infinite nuber of tuples can be created inside a tuple"
   ]
  },
  {
   "cell_type": "code",
   "execution_count": 3,
   "id": "c3566c6e-e5f9-41b0-acc7-cf6ee9b7e464",
   "metadata": {},
   "outputs": [
    {
     "name": "stdout",
     "output_type": "stream",
     "text": [
      "{'mango', 'kiwi', 'orange', 'Dragonfruit', 'apple'}\n"
     ]
    }
   ],
   "source": [
    "my_fav_fruits = {\"apple\",\"mango\",\"orange\"}\n",
    "my_friends_fav_fruits = {\"orange\",\"Dragonfruit\",\"kiwi\"}\n",
    "print(my_fav_fruits | my_friends_fav_fruits)                    # Union"
   ]
  },
  {
   "cell_type": "code",
   "execution_count": 5,
   "id": "13246b7c-4437-4597-8139-a659f78e7ab1",
   "metadata": {},
   "outputs": [
    {
     "name": "stdout",
     "output_type": "stream",
     "text": [
      "{'orange'}\n"
     ]
    }
   ],
   "source": [
    "my_fav_fruits = {\"apple\",\"mango\",\"orange\"}\n",
    "my_friends_fav_fruits = {\"orange\",\"Dragonfruit\",\"kiwi\"}\n",
    "print(my_fav_fruits & my_friends_fav_fruits)                 # Intersection"
   ]
  },
  {
   "cell_type": "code",
   "execution_count": 7,
   "id": "7a1070d8-9235-4057-b7ca-12c5a811052c",
   "metadata": {},
   "outputs": [
    {
     "name": "stdout",
     "output_type": "stream",
     "text": [
      "{'mango', 'apple'}\n"
     ]
    }
   ],
   "source": [
    "my_fav_fruits = {\"apple\",\"mango\",\"orange\"}\n",
    "my_friends_fav_fruits = {\"orange\",\"Dragonfruit\",\"kiwi\"}\n",
    "print(my_fav_fruits - my_friends_fav_fruits)                    # Difference"
   ]
  },
  {
   "cell_type": "code",
   "execution_count": 13,
   "id": "ff6b4284-2de2-4402-a5fd-7af88e3cd873",
   "metadata": {},
   "outputs": [
    {
     "name": "stdout",
     "output_type": "stream",
     "text": [
      "{'mango', 'Banana', 'apple', 'orange'}\n"
     ]
    }
   ],
   "source": [
    "my_fav_fruits = {\"apple\",\"mango\",\"orange\"}\n",
    "my_friends_fav_fruits = {\"orange\",\"Dragonfruit\",\"kiwi\"}\n",
    "my_fav_fruits.add(\"Banana\")                                  # Adding new item\n",
    "print(my_fav_fruits)"
   ]
  },
  {
   "cell_type": "code",
   "execution_count": 15,
   "id": "037a4083-ca37-4deb-b992-053532f3c1c3",
   "metadata": {},
   "outputs": [
    {
     "name": "stdout",
     "output_type": "stream",
     "text": [
      "{'Dragonfruit', 'orange'}\n"
     ]
    }
   ],
   "source": [
    "my_fav_fruits = {\"apple\",\"mango\",\"orange\"}\n",
    "my_friends_fav_fruits = {\"orange\",\"Dragonfruit\",\"kiwi\"}\n",
    "my_friends_fav_fruits.remove(\"kiwi\")                       # removing an item\n",
    "print(my_friends_fav_fruits)"
   ]
  },
  {
   "cell_type": "code",
   "execution_count": 21,
   "id": "1d1f333b-e2f9-4104-8ec3-796912fae3f7",
   "metadata": {},
   "outputs": [
    {
     "name": "stdout",
     "output_type": "stream",
     "text": [
      "{'mango', 'apple', 'orange'}\n"
     ]
    }
   ],
   "source": [
    "my_fav_fruits = {\"apple\",\"mango\",\"orange\"}\n",
    "my_friends_fav_fruits = {\"orange\",\"Dragonfruit\",\"kiwi\"}\n",
    "my_fav_fruits.discard(\"kiwi\")\n",
    "print(my_fav_fruits)                           # they asked what happens when a fruit doesn't exist \n",
    "                                                #so when we print and check it just prints the item in the list it gives no error                      "
   ]
  },
  {
   "cell_type": "code",
   "execution_count": 23,
   "id": "4d578a0a-b668-4735-8356-18e6058d1417",
   "metadata": {},
   "outputs": [
    {
     "name": "stdout",
     "output_type": "stream",
     "text": [
      "('apple', 'banana', 'cherry', 'apple', 'banana')\n"
     ]
    }
   ],
   "source": [
    "fruits = [\"apple\", \"banana\", \"cherry\", \"apple\", \"banana\"]\n",
    "elements_tuple = tuple(fruits)\n",
    "print(elements_tuple)                              # Converting it into a tuple"
   ]
  },
  {
   "cell_type": "code",
   "execution_count": 25,
   "id": "384e8ab2-f153-47bb-9a46-84c14a30f89e",
   "metadata": {},
   "outputs": [
    {
     "name": "stdout",
     "output_type": "stream",
     "text": [
      "{'cherry', 'apple', 'banana'}\n"
     ]
    }
   ],
   "source": [
    "fruits = [\"apple\", \"banana\", \"cherry\", \"apple\", \"banana\"]\n",
    "elements_set = set(fruits)\n",
    "print(elements_set)                          # Converting it into a set"
   ]
  }
 ],
 "metadata": {
  "kernelspec": {
   "display_name": "Python 3 (ipykernel)",
   "language": "python",
   "name": "python3"
  },
  "language_info": {
   "codemirror_mode": {
    "name": "ipython",
    "version": 3
   },
   "file_extension": ".py",
   "mimetype": "text/x-python",
   "name": "python",
   "nbconvert_exporter": "python",
   "pygments_lexer": "ipython3",
   "version": "3.12.7"
  }
 },
 "nbformat": 4,
 "nbformat_minor": 5
}
