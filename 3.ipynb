{
 "cells": [
  {
   "cell_type": "markdown",
   "id": "834bc349-d998-4f6d-b525-ea1cea928c4f",
   "metadata": {},
   "source": [
    "# Learning"
   ]
  },
  {
   "cell_type": "code",
   "execution_count": 2,
   "id": "9768b5e5-45c7-447f-b476-5be2085bed3c",
   "metadata": {},
   "outputs": [],
   "source": [
    "items = [\"bru\",\"Sugar\",\"milk\", \"chocolate\", \"cakes\"]"
   ]
  },
  {
   "cell_type": "code",
   "execution_count": 12,
   "id": "2cbd67ba-e003-4326-8312-50b3f178244a",
   "metadata": {},
   "outputs": [
    {
     "name": "stdout",
     "output_type": "stream",
     "text": [
      "bru\n",
      "[1, 1, 'bru', 'chocolates', 'ok', '30']\n",
      "[1, 4, 6, 'hello world', ['new list', 'inside a list', 'of another list']]\n"
     ]
    }
   ],
   "source": [
    "print(items[0])\n",
    "l = [1,1,\"bru\",\"chocolates\",\"ok\",\"30\"]\n",
    "print(l)\n",
    "k = [1,4,6,\"hello world\",[\"new list\",\"inside a list\",\"of another list\"]]\n",
    "print(k)"
   ]
  },
  {
   "cell_type": "code",
   "execution_count": 14,
   "id": "a534e0d4-63af-497a-b523-a3dd8272280a",
   "metadata": {},
   "outputs": [
    {
     "name": "stdout",
     "output_type": "stream",
     "text": [
      "['Choco lava', 'Sugar', 'milk', 'chocolate', 'cakes']\n"
     ]
    }
   ],
   "source": [
    "items[0] = \"Choco lava\"\n",
    "print(items)"
   ]
  },
  {
   "cell_type": "code",
   "execution_count": 16,
   "id": "99b2f39e-0bee-4ff1-ac29-399550301644",
   "metadata": {},
   "outputs": [
    {
     "name": "stdout",
     "output_type": "stream",
     "text": [
      "['a', 'b']\n"
     ]
    }
   ],
   "source": [
    "ok = [\"a\",\"b\",\"c\",\"d\",\"e\",\"f\"]\n",
    "print(ok[0:2])"
   ]
  },
  {
   "cell_type": "code",
   "execution_count": 18,
   "id": "df1f246d-8c77-4079-8864-18388dc33bce",
   "metadata": {},
   "outputs": [
    {
     "name": "stdout",
     "output_type": "stream",
     "text": [
      "['a', 'b', 'c', 'd', 'e', 'f']\n"
     ]
    }
   ],
   "source": [
    "ok = [\"a\",\"b\",\"c\",\"d\",\"e\",\"f\"]\n",
    "print(ok[0:7])"
   ]
  },
  {
   "cell_type": "code",
   "execution_count": 24,
   "id": "49669278-2e5a-4f60-b93a-0de1f5be5923",
   "metadata": {},
   "outputs": [
    {
     "name": "stdout",
     "output_type": "stream",
     "text": [
      "['b', 'c', 'd', 'e', 'f']\n"
     ]
    }
   ],
   "source": [
    "ok = [\"a\",\"b\",\"c\",\"d\",\"e\",\"f\"]\n",
    "print(ok[1:])"
   ]
  },
  {
   "cell_type": "code",
   "execution_count": 26,
   "id": "2c45bdf5-1db2-4eab-973a-bcd927c13bdd",
   "metadata": {},
   "outputs": [
    {
     "name": "stdout",
     "output_type": "stream",
     "text": [
      "['a', 'c', 'e']\n"
     ]
    }
   ],
   "source": [
    "ok = [\"a\",\"b\",\"c\",\"d\",\"e\",\"f\"]\n",
    "print(ok[0::2])"
   ]
  },
  {
   "cell_type": "code",
   "execution_count": 28,
   "id": "abc384a5-d8da-473f-9f40-4f7b3987051b",
   "metadata": {},
   "outputs": [
    {
     "name": "stdout",
     "output_type": "stream",
     "text": [
      "[2000, 3000, 4000, 5000, 6000]\n"
     ]
    }
   ],
   "source": [
    "d = [1000,2000,3000,4000,5000,6000,7000,8000,9000]\n",
    "d2 = d[1:6]\n",
    "print(d2)"
   ]
  },
  {
   "cell_type": "code",
   "execution_count": 30,
   "id": "675a3262-45c3-434d-9b92-c7d1518d3435",
   "metadata": {},
   "outputs": [
    {
     "name": "stdout",
     "output_type": "stream",
     "text": [
      "6\n"
     ]
    }
   ],
   "source": [
    "ok = [\"a\",\"b\",\"c\",\"d\",\"e\",\"f\"]\n",
    "print(len(ok))"
   ]
  },
  {
   "cell_type": "code",
   "execution_count": 32,
   "id": "5bd6cbef-7d59-46ad-9301-a6ee44d5c75e",
   "metadata": {},
   "outputs": [
    {
     "name": "stdout",
     "output_type": "stream",
     "text": [
      "[1, 3, 4, 4, 5, 6, 7, 9]\n"
     ]
    }
   ],
   "source": [
    "no = [1,4,6,5,4,7,3,9]\n",
    "print(sorted(no))"
   ]
  },
  {
   "cell_type": "code",
   "execution_count": 61,
   "id": "37681872-1a84-4563-b8d4-b6bca6504237",
   "metadata": {},
   "outputs": [
    {
     "name": "stdout",
     "output_type": "stream",
     "text": [
      "28\n"
     ]
    }
   ],
   "source": [
    "h = [1,4,7,4,8,4,]\n",
    "print(sum(h))\n",
    "                       "
   ]
  },
  {
   "cell_type": "code",
   "execution_count": 69,
   "id": "134117d4-e00f-47bf-a649-559bcc794dd0",
   "metadata": {},
   "outputs": [
    {
     "name": "stdout",
     "output_type": "stream",
     "text": [
      "3\n"
     ]
    }
   ],
   "source": [
    "ok = [\"a\",\"b\",\"c\",\"d\",\"e\",\"f\"]\n",
    "print(ok.index(\"d\"))"
   ]
  },
  {
   "cell_type": "code",
   "execution_count": 77,
   "id": "e73ecc1a-f726-4543-8459-dc8016c6c973",
   "metadata": {},
   "outputs": [
    {
     "name": "stdout",
     "output_type": "stream",
     "text": [
      "[[9, 8], [7, 6], [5, 4], [[4, 3], [2, 3], [6, 3]]]\n"
     ]
    }
   ],
   "source": [
    "matrix = [[9,8,],[7,6],[5,4],[[4,3],[2,3],[6,3]]]\n",
    "print(matrix)                                        # nesting"
   ]
  },
  {
   "cell_type": "code",
   "execution_count": 79,
   "id": "883e28ed-4b00-44de-a48b-6ff49ab5aec9",
   "metadata": {},
   "outputs": [
    {
     "name": "stdout",
     "output_type": "stream",
     "text": [
      "<class 'list'>\n"
     ]
    }
   ],
   "source": [
    "matrix = [[9,8,],[7,6],[5,4],[[4,3],[2,3],[6,3]]]\n",
    "print(type(matrix))"
   ]
  },
  {
   "cell_type": "code",
   "execution_count": 81,
   "id": "8290263c-bf8d-42a6-b480-789f05665983",
   "metadata": {},
   "outputs": [],
   "source": [
    "     # NO Homework given today "
   ]
  }
 ],
 "metadata": {
  "kernelspec": {
   "display_name": "Python 3 (ipykernel)",
   "language": "python",
   "name": "python3"
  },
  "language_info": {
   "codemirror_mode": {
    "name": "ipython",
    "version": 3
   },
   "file_extension": ".py",
   "mimetype": "text/x-python",
   "name": "python",
   "nbconvert_exporter": "python",
   "pygments_lexer": "ipython3",
   "version": "3.12.7"
  }
 },
 "nbformat": 4,
 "nbformat_minor": 5
}
